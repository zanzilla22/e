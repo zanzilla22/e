{
 "cells": [
  {
   "cell_type": "markdown",
   "id": "acaf19b3",
   "metadata": {},
   "source": [
    "## Installs\n",
    "pip install torch transformers biopython pandas torch torchviz matplotlib graphviz"
   ]
  },
  {
   "cell_type": "markdown",
   "id": "58392618",
   "metadata": {},
   "source": [
    "# Data Preprocessing\n",
    "Load data & labels"
   ]
  },
  {
   "cell_type": "code",
   "execution_count": 2,
   "id": "47de963c",
   "metadata": {},
   "outputs": [
    {
     "name": "stdout",
     "output_type": "stream",
     "text": [
      "starting to index\n",
      "done indexing\n"
     ]
    }
   ],
   "source": [
    "from Bio import SeqIO\n",
    "import pandas as pd\n",
    "\n",
    "def indexFasta(fasta_file):\n",
    "    return set(record.id for record in SeqIO.parse(fasta_file, \"fasta\"))\n",
    "\n",
    "def getLabel(recordId, indexes):\n",
    "    for kingdom, ids in indexes.items():\n",
    "        if recordId in ids:\n",
    "            return kingdom\n",
    "    return 'Unknown'\n",
    "\n",
    "print(\"starting to index\")\n",
    "indexesSuperkingdom = {\n",
    "    \"Archaea\": indexFasta(\"data/pretraining_dataset/Archaea_db.fa\"),\n",
    "    \"Bacteria\": indexFasta(\"data/pretraining_dataset/Bacteria_db.fa\"),\n",
    "    \"Eukaryota\": indexFasta(\"data/pretraining_dataset/Eukaryota_db.fa\"),\n",
    "    \"Viruses\": indexFasta(\"data/pretraining_dataset/Viruses_db.fa\"),\n",
    "}\n",
    "print(\"done indexing\")"
   ]
  },
  {
   "cell_type": "markdown",
   "id": "c6deca72",
   "metadata": {},
   "source": [
    "## Validation & Training Datasets"
   ]
  },
  {
   "cell_type": "code",
   "execution_count": 59,
   "id": "60514418",
   "metadata": {},
   "outputs": [],
   "source": [
    "train_file = 'data/final_model_dataset/train.fa'\n",
    "val_file = 'data/final_model_dataset/test.fa'\n",
    "dataTrain = []\n",
    "dataVal = []\n",
    "\n",
    "for i, record in enumerate(SeqIO.parse(train_file, \"fasta\")):\n",
    "    if i > 100000:\n",
    "        break\n",
    "    dataTrain.append({\n",
    "        \"ID\": record.id,\n",
    "        \"Sequence\": str(record.seq),\n",
    "        \"SuperkingdomLabel\": getLabel(record.id, indexesSuperkingdom)\n",
    "    })\n",
    "for i, record in enumerate(SeqIO.parse(val_file, \"fasta\")):\n",
    "    if i > 75000:\n",
    "        break\n",
    "    dataVal.append({\n",
    "        \"ID\": record.id,\n",
    "        \"Sequence\": str(record.seq),\n",
    "        \"SuperkingdomLabel\": getLabel(record.id, indexesSuperkingdom)\n",
    "    })\n",
    "\n",
    "df = pd.DataFrame(dataTrain)\n",
    "\n",
    "dfVal = pd.DataFrame(dataVal)\n"
   ]
  },
  {
   "cell_type": "markdown",
   "id": "2bf90293",
   "metadata": {},
   "source": [
    "# BERT LLM Model Architecture\n"
   ]
  },
  {
   "cell_type": "code",
   "execution_count": 60,
   "id": "a7a02931",
   "metadata": {},
   "outputs": [],
   "source": [
    "import torch\n",
    "from torch import nn\n",
    "from transformers import BertModel, BertTokenizer\n",
    "\n",
    "class TaxonomyClassifier(nn.Module):\n",
    "    def __init__(self, bert_model, num_classes_superkingdom):\n",
    "        super().__init__()\n",
    "        self.bert = bert_model\n",
    "        self.classifier_superkingdom = nn.Linear(self.bert.config.hidden_size, num_classes_superkingdom)\n",
    "\n",
    "    def forward(self, input_ids, attention_mask=None):\n",
    "        outputs = self.bert(input_ids, attention_mask=attention_mask)\n",
    "        pooled_output = outputs[1]\n",
    "        superkingdom_logits = self.classifier_superkingdom(pooled_output)\n",
    "        return superkingdom_logits"
   ]
  },
  {
   "cell_type": "markdown",
   "id": "0c14e640",
   "metadata": {},
   "source": [
    "## Instantiating the Model"
   ]
  },
  {
   "cell_type": "code",
   "execution_count": 61,
   "id": "6de74abe",
   "metadata": {},
   "outputs": [],
   "source": [
    "bert_model = BertModel.from_pretrained('bert-base-uncased')\n",
    "num_classes_superkingdom = 4  # The actual number of superkingdom classes you have\n",
    "\n",
    "model = TaxonomyClassifier(bert_model, num_classes_superkingdom)"
   ]
  },
  {
   "cell_type": "markdown",
   "id": "08e355e2",
   "metadata": {},
   "source": [
    "# Preparing the Data\n"
   ]
  },
  {
   "cell_type": "markdown",
   "id": "814fdf22",
   "metadata": {},
   "source": [
    "## Tokenization\n",
    "Not strictly necessary"
   ]
  },
  {
   "cell_type": "code",
   "execution_count": null,
   "id": "bfc35d33",
   "metadata": {
    "scrolled": true
   },
   "outputs": [],
   "source": [
    "tokenizer = BertTokenizer.from_pretrained('bert-base-uncased')\n",
    "\n",
    "tokenized_data = tokenizer(df['Sequence'].tolist(), padding=True, truncation=True, return_tensors='pt')"
   ]
  },
  {
   "cell_type": "markdown",
   "id": "cbfecda8",
   "metadata": {},
   "source": [
    "## Datasets & Dataloaders"
   ]
  },
  {
   "cell_type": "code",
   "execution_count": 62,
   "id": "4da0ab7c",
   "metadata": {},
   "outputs": [],
   "source": [
    "from torch.utils.data import Dataset, DataLoader\n",
    "label_to_index = {\n",
    "    \"Eukaryota\": 0,\n",
    "    \"Bacteria\": 1,\n",
    "    \"Archaea\": 2,\n",
    "    \"Viruses\": 3\n",
    "}\n",
    "\n",
    "class SequenceDataset(Dataset):\n",
    "    def __init__(self, dataframe, tokenizer, label_to_index):\n",
    "        self.dataframe = dataframe\n",
    "        self.tokenizer = tokenizer\n",
    "        self.label_to_index = label_to_index\n",
    "\n",
    "    def __len__(self):\n",
    "        return len(self.dataframe)\n",
    "\n",
    "    def __getitem__(self, idx):\n",
    "        sequence = self.dataframe.iloc[idx]['Sequence']\n",
    "        label_str = self.dataframe.iloc[idx]['SuperkingdomLabel']\n",
    "        label_idx = self.label_to_index[label_str]  # Convert label to index\n",
    "        tokenized_sequence = self.tokenizer.encode(sequence)\n",
    "        return torch.tensor(tokenized_sequence), torch.tensor(label_idx)\n",
    "\n",
    "\n",
    "train_dataset = SequenceDataset(df, tokenizer, label_to_index)\n",
    "val_dataset = SequenceDataset(dfVal, tokenizer, label_to_index)\n",
    "\n",
    "\n",
    "train_loader = DataLoader(train_dataset, batch_size=32, shuffle=True)\n",
    "val_loader = DataLoader(val_dataset, batch_size=32)\n"
   ]
  },
  {
   "cell_type": "markdown",
   "id": "9fd4a3fc",
   "metadata": {},
   "source": [
    "## Rendering an Image of the Model"
   ]
  },
  {
   "cell_type": "code",
   "execution_count": 44,
   "id": "eb51d2eb",
   "metadata": {
    "scrolled": true
   },
   "outputs": [
    {
     "data": {
      "text/plain": [
       "'full_model_architecture.png'"
      ]
     },
     "execution_count": 44,
     "metadata": {},
     "output_type": "execute_result"
    }
   ],
   "source": [
    "from torchviz import make_dot\n",
    "\n",
    "model_parameters = dict(model.named_parameters())\n",
    "\n",
    "model.eval()\n",
    "# For BERT, sequence_length is often 512\n",
    "dummy_input_ids = torch.randint(0, 1000, (1, 512)) #token IDs\n",
    "dummy_attention_mask = torch.ones(1, 512).long() # Attention Masks\n",
    "\n",
    "with torch.no_grad():\n",
    "    # Forward pass with dummy data to get the model output.\n",
    "    dummy_output = model(dummy_input_ids, dummy_attention_mask)\n",
    "\n",
    "if isinstance(dummy_output, tuple):\n",
    "    dot = make_dot(dummy_output[0], params=model_parameters)\n",
    "else:\n",
    "    dot = make_dot(dummy_output, params=model_parameters)\n",
    "\n",
    "# Save the graph to a file.\n",
    "dot.render('full_model_architecture', format='png')\n"
   ]
  },
  {
   "cell_type": "markdown",
   "id": "302e9899",
   "metadata": {},
   "source": [
    "# Training"
   ]
  },
  {
   "cell_type": "markdown",
   "id": "f01921dd",
   "metadata": {},
   "source": [
    "## Device Setup"
   ]
  },
  {
   "cell_type": "code",
   "execution_count": 63,
   "id": "8114a1f2",
   "metadata": {
    "scrolled": true
   },
   "outputs": [
    {
     "name": "stdout",
     "output_type": "stream",
     "text": [
      "cuda\n"
     ]
    }
   ],
   "source": [
    "device = torch.device('cuda' if torch.cuda.is_available() else 'cpu')\n",
    "model.to(device)\n",
    "print(device)"
   ]
  },
  {
   "cell_type": "code",
   "execution_count": 64,
   "id": "50258646",
   "metadata": {},
   "outputs": [],
   "source": [
    "from torch.utils.tensorboard import SummaryWriter\n",
    "writer = SummaryWriter('runs/taxonomyClassifactionModel1')"
   ]
  },
  {
   "cell_type": "code",
   "execution_count": 65,
   "id": "2c836d43",
   "metadata": {},
   "outputs": [],
   "source": [
    "# Define Loss Function and Optimizer\n",
    "criterion = nn.CrossEntropyLoss()  # or another suitable loss function\n",
    "optimizer = torch.optim.Adam(model.parameters(), lr=0.001)\n",
    "\n",
    "def train_and_validate(model, train_loader, val_loader, optimizer, criterion, device, num_epochs):\n",
    "    trainLosses = []\n",
    "    valLosses = []\n",
    "    for epoch in range(num_epochs):\n",
    "        print(f\"Starting epoch {epoch}\")\n",
    "        \n",
    "        # Training phase\n",
    "        model.train()\n",
    "        total_train_loss = 0\n",
    "        for sequences, labels in train_loader:\n",
    "            sequences, labels = sequences.to(device), labels.to(device)\n",
    "\n",
    "            optimizer.zero_grad()\n",
    "            outputs = model(sequences)\n",
    "            loss = criterion(outputs, labels)\n",
    "            loss.backward()\n",
    "            optimizer.step()\n",
    "\n",
    "            total_train_loss += loss.item()\n",
    "        avg_train_loss = total_train_loss / len(train_loader)\n",
    "        trainLosses.append(avg_train_loss)\n",
    "\n",
    "        # Log training loss\n",
    "        writer.add_scalar('Loss/Train', avg_train_loss, epoch)\n",
    "        print(f\"Epoch [{epoch+1}/{num_epochs}], Training Loss: {avg_train_loss}\")\n",
    "\n",
    "        # Validation phase\n",
    "        model.eval()\n",
    "        total_val_loss = 0\n",
    "        with torch.no_grad():\n",
    "            for sequences, labels in val_loader:\n",
    "                sequences, labels = sequences.to(device), labels.to(device)\n",
    "                outputs = model(sequences)\n",
    "                loss = criterion(outputs, labels)\n",
    "                total_val_loss += loss.item()\n",
    "        avg_val_loss = total_val_loss / len(val_loader)\n",
    "        valLosses.append(avg_val_loss)\n",
    "\n",
    "        # Log validation loss\n",
    "        writer.add_scalar('Loss/Validation', avg_val_loss, epoch)\n",
    "        print(f\"Epoch [{epoch+1}/{num_epochs}], Validation Loss: {avg_val_loss}\")\n",
    "\n",
    "    # Close the SummaryWriter\n",
    "    writer.close()\n",
    "\n",
    "    return trainLosses, valLosses\n"
   ]
  },
  {
   "cell_type": "markdown",
   "id": "139647f2",
   "metadata": {},
   "source": [
    "# Testing & Visualization"
   ]
  },
  {
   "cell_type": "markdown",
   "id": "7c2efe9f",
   "metadata": {},
   "source": [
    "## Calling Training Function"
   ]
  },
  {
   "cell_type": "code",
   "execution_count": null,
   "id": "32d66689",
   "metadata": {
    "scrolled": false
   },
   "outputs": [
    {
     "name": "stdout",
     "output_type": "stream",
     "text": [
      "Starting epoch 0\n",
      "Epoch [1/101], Training Loss: 1.11746060199945\n"
     ]
    }
   ],
   "source": [
    "num_epochs = 101\n",
    "train_losses, val_losses = train_and_validate(model, train_loader, val_loader, optimizer, criterion, device, num_epochs)"
   ]
  },
  {
   "cell_type": "code",
   "execution_count": 58,
   "id": "6597f43f",
   "metadata": {},
   "outputs": [
    {
     "data": {
      "image/png": "[encoded data removed]",
      "text/plain": [
       "<Figure size 1000x500 with 1 Axes>"
      ]
     },
     "metadata": {},
     "output_type": "display_data"
    }
   ],
   "source": [
    "import matplotlib.pyplot as plt\n",
    "\n",
    "# Assuming you have lists storing training and validation losses\n",
    "plt.figure(figsize=(10, 5))\n",
    "plt.plot(train_losses, label='Training Loss')\n",
    "plt.plot(val_losses, label='Validation Loss')\n",
    "plt.xlabel('Epoch')\n",
    "plt.ylabel('Loss')\n",
    "plt.title('Training and Validation Loss Over Epochs')\n",
    "plt.legend()\n",
    "plt.show()"
   ]
  }
 ],
 "metadata": {
  "kernelspec": {
   "display_name": "Python 3 (ipykernel)",
   "language": "python",
   "name": "python3"
  },
  "language_info": {
   "codemirror_mode": {
    "name": "ipython",
    "version": 3
   },
   "file_extension": ".py",
   "mimetype": "text/x-python",
   "name": "python",
   "nbconvert_exporter": "python",
   "pygments_lexer": "ipython3",
   "version": "3.11.5"
  }
 },
 "nbformat": 4,
 "nbformat_minor": 5
}
